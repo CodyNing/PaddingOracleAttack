{
 "cells": [
  {
   "cell_type": "code",
   "execution_count": 3,
   "metadata": {},
   "outputs": [],
   "source": [
    "from Crypto.Cipher import AES\n",
    "import subprocess\n",
    "import os\n",
    "import numpy as np\n"
   ]
  },
  {
   "cell_type": "code",
   "execution_count": 2,
   "metadata": {},
   "outputs": [],
   "source": [
    "\n",
    "def oracle(ciphertext):\n",
    "    key = b'dont use the key'\n",
    "    iv = b'ABCDEFGHabcdefgh'\n",
    "\n",
    "    cipher = AES.new(key, AES.MODE_CBC, iv)\n",
    "    plaintext = cipher.decrypt(ciphertext)\n",
    "    #last byte tells us how much padding there is\n",
    "    padnum = 16 - plaintext[-1]\n",
    "    if padnum <= 0:\n",
    "        return False\n",
    "    passed_check = True\n",
    "    for i in range(padnum):\n",
    "        if plaintext[-i-1] != 16 - padnum:\n",
    "            passed_check = False\n",
    "            break\n",
    "    return passed_check\n"
   ]
  },
  {
   "cell_type": "code",
   "execution_count": 68,
   "metadata": {},
   "outputs": [],
   "source": [
    "def oracle(ciphertext):\n",
    "    f = open(\"zna3tmp.cipher\", \"wb\")\n",
    "    f.write(ciphertext)\n",
    "    f.close()\n",
    "    res = subprocess.check_output('python oracle.py zna3tmp.cipher')\n",
    "    return int(res.decode()[0]) == 1\n"
   ]
  },
  {
   "cell_type": "code",
   "execution_count": 4,
   "metadata": {},
   "outputs": [],
   "source": [
    "f = open('ciphertext', \"rb\")\n",
    "ciphertext = f.read()\n",
    "f.close()"
   ]
  },
  {
   "cell_type": "code",
   "execution_count": 4,
   "metadata": {},
   "outputs": [],
   "source": [
    "def decryptbyte(rs, yn, k):\n",
    "    for i in range(k+1, 16):\n",
    "        rs[i] ^= k\n",
    "    \n",
    "    for i in range(256):\n",
    "        rs[k] = i\n",
    "        guess = bytes(rs + yn)\n",
    "        if oracle(guess):\n",
    "            break\n",
    "    \n",
    "    if k == 15:\n",
    "\n",
    "        for i in range(k):\n",
    "            init = rs[i]\n",
    "            for j in range(255):\n",
    "                rs[i] = (init + j) % 256\n",
    "                guess = bytes(rs + yn)\n",
    "                if oracle(guess):\n",
    "                    break\n",
    "                else:\n",
    "                    rs[k] ^= i\n",
    "\n",
    "    rs[k] ^= k\n",
    "\n",
    "    for i in range(k+1, 16):\n",
    "        rs[i] ^= k\n",
    "\n",
    "    return rs"
   ]
  },
  {
   "cell_type": "code",
   "execution_count": 5,
   "metadata": {},
   "outputs": [],
   "source": [
    "def decryptblock(yn):\n",
    "    rs = bytearray(list(np.random.randint(low=0, high=256, size=16)))\n",
    "    for k in range(16):\n",
    "        rs = decryptbyte(rs, yn, 15-k)\n",
    "    return rs"
   ]
  },
  {
   "cell_type": "code",
   "execution_count": 8,
   "metadata": {},
   "outputs": [],
   "source": [
    "def decrypt(ciphertext):\n",
    "    size = len(ciphertext)\n",
    "    if size <= 16:\n",
    "        return\n",
    "\n",
    "    xn = bytes()\n",
    "\n",
    "    for i in range(size, 16, -16):\n",
    "        yn = ciphertext[i-16:i]\n",
    "        yn1 = ciphertext[i-32:i-16]\n",
    "        dyn = decryptblock(yn)\n",
    "        xn = bytes(a ^ b for a, b in zip(dyn, yn1)) + xn\n",
    "\n",
    "    padnum = xn[-1]\n",
    "    xn = xn[:padnum-16]\n",
    "    xn\n",
    "        \n",
    "    return xn"
   ]
  },
  {
   "cell_type": "code",
   "execution_count": 9,
   "metadata": {},
   "outputs": [
    {
     "data": {
      "text/plain": [
       "b'a white rabbit with pink eyes'"
      ]
     },
     "execution_count": 9,
     "metadata": {},
     "output_type": "execute_result"
    }
   ],
   "source": [
    "decrypt(ciphertext)"
   ]
  },
  {
   "cell_type": "code",
   "execution_count": 26,
   "metadata": {},
   "outputs": [
    {
     "data": {
      "text/plain": [
       "'ce5dfd5a8ff6a1c3bb4971c38e61a38754b7fa397c85a9f313e760910c0780e10698abd420d54d2b7ba172901590520d63939abf264bfe4dfd4f4f4298ce90baba83a457c6e4873e92f4858e835b2ed27e96af33b7c3d9c2b3d306862f7f8affa2e46036d683f2548c4fedcbddaac0f99f757e0a6417bd7a18e16eba121c50aa0718c399e9c8b5bb09c9628d8b02db2c9b1cac255077f58ad0cbb01c20fb47cd9819616cfe876263393548b8f2de2afddb4682eafe10fa2a3cc093fa2354221807d82520d824e101f78710cf81fb3f19890cd3af3640456d1f7b36c4f8ec523870a7f9223f6d50130fc512d0c0be1b00bc7c49a3ee9d16e23fb2a74e7eef9d38fffe951457495442ab3c7193506fb94236f7416ad6418dc5980e3dd1038b0915617774ddde84975d333ff14c0f0dfc8233ed1388fbdace4796be20428ea916665000082de8dc4589a405bd25a6937b252ed5f60398a620395c080702450fb408a127c9ad40796bcc9b2a7cfce2c1dcc39f7962be64985808b5349db6088c0578ab02a8daeaf210122cb14183d669ae502cd5ed75f90b408fdc4008e49fabd368efd32508e94f3ef5a102a55b80667db1ea6e5dd8e19df4f715b52ca433379f79cb66c68126548319e8346dcb442de735503c084de9e2581dcc5145fbefd67722fbff399e4f0a834d998f39194c0b8b2ae9da02779209cc9884299fc61c1c85f66cc1bd144fb955c633089af9ab0b3415b61367b2fb68b4768f947f97c9627a1d088aebf9896b19f78381fcea37485a74f4288f6ed636c6dd1c161a66329c41b40186f61b9ba6bc8f918c63adcf9f81abc88612b2477f17a3'"
      ]
     },
     "execution_count": 26,
     "metadata": {},
     "output_type": "execute_result"
    }
   ],
   "source": [
    "f = open('ctext0', \"r\")\n",
    "asd = f.read()\n",
    "f.close()\n",
    "res = bytearray([ int(a.strip()) for a in asd[1:-1].split(',')]).hex()\n",
    "res\n"
   ]
  },
  {
   "cell_type": "code",
   "execution_count": 20,
   "metadata": {},
   "outputs": [
    {
     "data": {
      "text/plain": [
       "'d747ae53cabea1d3f84160d38e25ee9041e3e72175c0fbf501fe2591190795e70798a4c124c7432b71e3319446de5e1463979fbc2853fe53fd5f53429ad2de87a985a457eaa5996ccfbbcb91dc0c338c3dc48972fcfbd3e1ffdd6dbb2b76d98fe581707580dbab1da942e7cbf8aac3a3cd2e6c4e3a01f23f56e420bf123f40a94514df99c8c5b8b4079762a5c518d1309618f864516cf9849591a25962a70ac3d7236765b2dd2b6325394eb8f5d339e09e42cae0fe10f92a308399b62452695005c46b35cd3af040ec91548789e634109848d7e30d46476d3b7b2fdcabf7542e70e1b418346d5c7e0ede1cd0e5b30755966d05a6bdc917b717b6a75375acdd74b4eed74c1f091873b17925b95866b9743ffc0624e75d9fc5981c3a8a01bb0816274e7bc9c69f8014247ed34e1814a7d606f11394b5889008cbe8311ed4a553544c0c5c23a7fe049aa15cb5698492736722c9a557bfad6c2e1b50505f0755a255e227eda1517b2dd4d96e3ec4f993cdc2cb23259c6f91016bb33887f34a990f64f803add6a4d6420334f249899f7ffc7c37c2b52cba5440db830311ac93f8ef64efcf2708d95522e9b102ac09c93454f8d92f41dafad9f8b658912da524299334df7bd6813306a058eb2162d14665ae6106684d01a7f71617836c47eabad2722ff7ba04d700178418b48a23054c57d17ffb984e28c724c7db896883805f078ef16acdbb414dbd5d933f15cef5aa5d2918a44026b5f72dae7a83da7cd8c476630d149fe6ab8e7b07b5b492ecb9791f5611bd70c63299629c9e52181c7a2b8d16f84788ea1a9bb3f498d4a873b3d5da9beaf09305a65b384ea8'"
      ]
     },
     "execution_count": 20,
     "metadata": {},
     "output_type": "execute_result"
    }
   ],
   "source": [
    "f = open('ctext1', \"r\")\n",
    "asd = f.read()\n",
    "f.close()\n",
    "bytearray([ int(a.strip()) for a in asd[1:-1].split(',')]).hex()\n"
   ]
  },
  {
   "cell_type": "code",
   "execution_count": 23,
   "metadata": {},
   "outputs": [
    {
     "data": {
      "text/plain": [
       "bytearray(b' !\"#$%&\\'(),-./0123456789:;;?[]ABCDEFGHIJKLMNOPQRSTUVWXYZabcdefghijklmnopqrstuvwxyz')"
      ]
     },
     "execution_count": 23,
     "metadata": {},
     "output_type": "execute_result"
    }
   ],
   "source": [
    "asciis = list(range(32, 42)) + list(range(44, 60)) + [59, 63, 91, 93] + list(range(65, 91)) + list(range(97, 123))\n",
    "bytearray(asciis)"
   ]
  },
  {
   "cell_type": "code",
   "execution_count": 5,
   "metadata": {},
   "outputs": [
    {
     "data": {
      "text/plain": [
       "b'a white rabbit with pink eyes'"
      ]
     },
     "execution_count": 5,
     "metadata": {},
     "output_type": "execute_result"
    }
   ],
   "source": [
    "from decrypt import decrypt, decryptblock\n",
    "decrypt(ciphertext)"
   ]
  },
  {
   "cell_type": "code",
   "execution_count": 15,
   "metadata": {},
   "outputs": [
    {
     "data": {
      "text/plain": [
       "b'Y!\\x9c.\\xc4\\x7f\\xe9yFi\\x96p\\xda\\xdb\\xf34'"
      ]
     },
     "execution_count": 15,
     "metadata": {},
     "output_type": "execute_result"
    }
   ],
   "source": [
    "decrypt(b'ABCDEFGHabcdefghRa white rabbit wi')"
   ]
  },
  {
   "cell_type": "code",
   "execution_count": 12,
   "metadata": {},
   "outputs": [
    {
     "data": {
      "text/plain": [
       "47"
      ]
     },
     "execution_count": 12,
     "metadata": {},
     "output_type": "execute_result"
    }
   ],
   "source": [
    "len(b'ABCDEFGHabcdefghR\\x9a^\\x80\\xb0\\xa6\\x07\\xa9\\t \\xb2\"U\\x8fmo\\xc2\\xc3E\\xd3\\x8c\\xbcY\\x91\\xcf=\\xb9E\\xe2\\x0c\\xc2\\xdf')"
   ]
  },
  {
   "cell_type": "code",
   "execution_count": 6,
   "metadata": {},
   "outputs": [
    {
     "data": {
      "text/plain": [
       "bytearray(b'\\x1a\\xb8E\\x01\\xc9\\x9c\\x19,\\xd2\\x91i\\x93\\xb8\\x02\\xe7\\xbb')"
      ]
     },
     "execution_count": 6,
     "metadata": {},
     "output_type": "execute_result"
    }
   ],
   "source": [
    "decryptblock(b'ABCDEFGHabcdefgh')"
   ]
  },
  {
   "cell_type": "code",
   "execution_count": 19,
   "metadata": {},
   "outputs": [],
   "source": [
    "ptext = \"ruo zhi er tong huan le duo, shabi?\"\n"
   ]
  },
  {
   "cell_type": "code",
   "execution_count": 13,
   "metadata": {},
   "outputs": [
    {
     "data": {
      "text/plain": [
       "bytearray(b'ruo zhi er tong huan le duo, shabi?\\x03\\x03\\x03\\x03\\x03\\x03\\x03\\x03\\x03\\x03\\x03\\x03\\x03')"
      ]
     },
     "execution_count": 13,
     "metadata": {},
     "output_type": "execute_result"
    }
   ],
   "source": [
    "ptextbytes = bytearray(ptext.encode())\n",
    "rounddown = int((len(ptextbytes))/16) * 16\n",
    "diff = len(ptextbytes) - rounddown\n",
    "\n",
    "for i in range(16 - diff):\n",
    "    ptextbytes.append(diff)\n",
    "\n",
    "ptextbytes"
   ]
  },
  {
   "cell_type": "code",
   "execution_count": 15,
   "metadata": {},
   "outputs": [
    {
     "data": {
      "text/plain": [
       "[bytearray(b'ruo zhi er tong '),\n",
       " bytearray(b'huan le duo, sha'),\n",
       " bytearray(b'bi?\\x03\\x03\\x03\\x03\\x03\\x03\\x03\\x03\\x03\\x03\\x03\\x03\\x03')]"
      ]
     },
     "execution_count": 15,
     "metadata": {},
     "output_type": "execute_result"
    }
   ],
   "source": [
    "ptextblocks = []\n",
    "for i in range(0, len(ptextbytes), 16):\n",
    "    ptextblocks.append(ptextbytes[i:i+16])\n",
    "ptextblocks"
   ]
  },
  {
   "cell_type": "code",
   "execution_count": 20,
   "metadata": {},
   "outputs": [
    {
     "data": {
      "text/plain": [
       "[None,\n",
       " None,\n",
       " bytearray(b'4\\xe9\\x9e\\xc3\\x982@\\x80\\xbd\\x93[\\xe3\\x90\\xdc\\x85\\xd1')]"
      ]
     },
     "execution_count": 20,
     "metadata": {},
     "output_type": "execute_result"
    }
   ],
   "source": [
    "rs = bytearray(list(np.random.randint(low=0, high=256, size=16)))\n",
    "c = [None for _ in range(len(ptextblocks))]\n",
    "c[-1] = rs\n",
    "c"
   ]
  },
  {
   "cell_type": "code",
   "execution_count": 23,
   "metadata": {},
   "outputs": [
    {
     "ename": "TypeError",
     "evalue": "unsupported operand type(s) for ^: 'bytes' and 'bytes'",
     "output_type": "error",
     "traceback": [
      "\u001b[1;31m---------------------------------------------------------------------------\u001b[0m",
      "\u001b[1;31mTypeError\u001b[0m                                 Traceback (most recent call last)",
      "\u001b[1;32m~\\AppData\\Local\\Temp\\ipykernel_16624\\4113542799.py\u001b[0m in \u001b[0;36m<cell line: 1>\u001b[1;34m()\u001b[0m\n\u001b[0;32m      1\u001b[0m \u001b[1;32mfor\u001b[0m \u001b[0mi\u001b[0m \u001b[1;32min\u001b[0m \u001b[0mrange\u001b[0m\u001b[1;33m(\u001b[0m\u001b[0mlen\u001b[0m\u001b[1;33m(\u001b[0m\u001b[0mptextblocks\u001b[0m\u001b[1;33m)\u001b[0m\u001b[1;33m-\u001b[0m\u001b[1;36m1\u001b[0m\u001b[1;33m,\u001b[0m \u001b[1;36m0\u001b[0m\u001b[1;33m,\u001b[0m \u001b[1;33m-\u001b[0m\u001b[1;36m1\u001b[0m\u001b[1;33m)\u001b[0m\u001b[1;33m:\u001b[0m\u001b[1;33m\u001b[0m\u001b[1;33m\u001b[0m\u001b[0m\n\u001b[1;32m----> 2\u001b[1;33m     \u001b[0mc\u001b[0m\u001b[1;33m[\u001b[0m\u001b[0mi\u001b[0m\u001b[1;33m-\u001b[0m\u001b[1;36m1\u001b[0m\u001b[1;33m]\u001b[0m \u001b[1;33m=\u001b[0m \u001b[0mbytes\u001b[0m\u001b[1;33m(\u001b[0m\u001b[0mptextblocks\u001b[0m\u001b[1;33m[\u001b[0m\u001b[0mi\u001b[0m\u001b[1;33m]\u001b[0m\u001b[1;33m)\u001b[0m \u001b[1;33m^\u001b[0m \u001b[0mbytes\u001b[0m\u001b[1;33m(\u001b[0m\u001b[0mdecryptblock\u001b[0m\u001b[1;33m(\u001b[0m\u001b[0mc\u001b[0m\u001b[1;33m[\u001b[0m\u001b[0mi\u001b[0m\u001b[1;33m]\u001b[0m\u001b[1;33m)\u001b[0m\u001b[1;33m)\u001b[0m\u001b[1;33m\u001b[0m\u001b[1;33m\u001b[0m\u001b[0m\n\u001b[0m\u001b[0;32m      3\u001b[0m \u001b[1;33m\u001b[0m\u001b[0m\n\u001b[0;32m      4\u001b[0m \u001b[0miv\u001b[0m \u001b[1;33m=\u001b[0m \u001b[0mbytes\u001b[0m\u001b[1;33m(\u001b[0m\u001b[0mptextblocks\u001b[0m\u001b[1;33m[\u001b[0m\u001b[1;36m0\u001b[0m\u001b[1;33m]\u001b[0m\u001b[1;33m)\u001b[0m \u001b[1;33m^\u001b[0m \u001b[0mbytes\u001b[0m\u001b[1;33m(\u001b[0m\u001b[0mdecryptblock\u001b[0m\u001b[1;33m(\u001b[0m\u001b[0mc\u001b[0m\u001b[1;33m[\u001b[0m\u001b[1;36m0\u001b[0m\u001b[1;33m]\u001b[0m\u001b[1;33m)\u001b[0m\u001b[1;33m)\u001b[0m\u001b[1;33m\u001b[0m\u001b[1;33m\u001b[0m\u001b[0m\n\u001b[0;32m      5\u001b[0m \u001b[1;33m\u001b[0m\u001b[0m\n",
      "\u001b[1;31mTypeError\u001b[0m: unsupported operand type(s) for ^: 'bytes' and 'bytes'"
     ]
    }
   ],
   "source": [
    "for i in range(len(ptextblocks)-1, 0, -1):\n",
    "    c[i-1] = ptextblocks[i] ^ decryptblock(c[i])\n",
    "\n",
    "iv = ptextblocks[0] ^ decryptblock(c[0])\n",
    "\n",
    "iv, c"
   ]
  },
  {
   "cell_type": "code",
   "execution_count": null,
   "metadata": {},
   "outputs": [],
   "source": []
  }
 ],
 "metadata": {
  "kernelspec": {
   "display_name": "Python 3.8.8 ('base')",
   "language": "python",
   "name": "python3"
  },
  "language_info": {
   "codemirror_mode": {
    "name": "ipython",
    "version": 3
   },
   "file_extension": ".py",
   "mimetype": "text/x-python",
   "name": "python",
   "nbconvert_exporter": "python",
   "pygments_lexer": "ipython3",
   "version": "3.8.13"
  },
  "orig_nbformat": 4,
  "vscode": {
   "interpreter": {
    "hash": "e42634819b8c191a5d07eaf23810ff32516dd8d3875f28ec3e488928fbd3c187"
   }
  }
 },
 "nbformat": 4,
 "nbformat_minor": 2
}
