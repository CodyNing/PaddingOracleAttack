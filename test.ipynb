{
 "cells": [
  {
   "cell_type": "code",
   "execution_count": 1,
   "metadata": {},
   "outputs": [],
   "source": [
    "from Crypto.Cipher import AES\n",
    "import subprocess\n",
    "import os\n",
    "import numpy as np\n"
   ]
  },
  {
   "cell_type": "code",
   "execution_count": 2,
   "metadata": {},
   "outputs": [],
   "source": [
    "\n",
    "def oracle(ciphertext):\n",
    "    key = b'dont use the key'\n",
    "    iv = b'ABCDEFGHabcdefgh'\n",
    "\n",
    "    cipher = AES.new(key, AES.MODE_CBC, iv)\n",
    "    plaintext = cipher.decrypt(ciphertext)\n",
    "    #last byte tells us how much padding there is\n",
    "    padnum = 16 - plaintext[-1]\n",
    "    if padnum <= 0:\n",
    "        return False\n",
    "    passed_check = True\n",
    "    for i in range(padnum):\n",
    "        if plaintext[-i-1] != 16 - padnum:\n",
    "            passed_check = False\n",
    "            break\n",
    "    return passed_check\n"
   ]
  },
  {
   "cell_type": "code",
   "execution_count": 68,
   "metadata": {},
   "outputs": [],
   "source": [
    "def oracle(ciphertext):\n",
    "    f = open(\"zna3tmp.cipher\", \"wb\")\n",
    "    f.write(ciphertext)\n",
    "    f.close()\n",
    "    res = subprocess.check_output('python oracle.py zna3tmp.cipher')\n",
    "    return int(res.decode()[0]) == 1\n"
   ]
  },
  {
   "cell_type": "code",
   "execution_count": 3,
   "metadata": {},
   "outputs": [],
   "source": [
    "f = open('ciphertext', \"rb\")\n",
    "ciphertext = f.read()\n",
    "f.close()"
   ]
  },
  {
   "cell_type": "code",
   "execution_count": 4,
   "metadata": {},
   "outputs": [],
   "source": [
    "def decryptbyte(rs, yn, k):\n",
    "    for i in range(k+1, 16):\n",
    "        rs[i] ^= k\n",
    "    \n",
    "    for i in range(256):\n",
    "        rs[k] = i\n",
    "        guess = bytes(rs + yn)\n",
    "        if oracle(guess):\n",
    "            break\n",
    "    \n",
    "    if k == 15:\n",
    "\n",
    "        for i in range(k):\n",
    "            init = rs[i]\n",
    "            for j in range(255):\n",
    "                rs[i] = (init + j) % 256\n",
    "                guess = bytes(rs + yn)\n",
    "                if oracle(guess):\n",
    "                    break\n",
    "                else:\n",
    "                    rs[k] ^= i\n",
    "\n",
    "    rs[k] ^= k\n",
    "\n",
    "    for i in range(k+1, 16):\n",
    "        rs[i] ^= k\n",
    "\n",
    "    return rs"
   ]
  },
  {
   "cell_type": "code",
   "execution_count": 5,
   "metadata": {},
   "outputs": [],
   "source": [
    "def decryptblock(yn):\n",
    "    rs = bytearray(list(np.random.randint(low=0, high=256, size=16)))\n",
    "    for k in range(16):\n",
    "        rs = decryptbyte(rs, yn, 15-k)\n",
    "    return rs"
   ]
  },
  {
   "cell_type": "code",
   "execution_count": 8,
   "metadata": {},
   "outputs": [],
   "source": [
    "def decrypt(ciphertext):\n",
    "    size = len(ciphertext)\n",
    "    if size <= 16:\n",
    "        return\n",
    "\n",
    "    xn = bytes()\n",
    "\n",
    "    for i in range(size, 16, -16):\n",
    "        yn = ciphertext[i-16:i]\n",
    "        yn1 = ciphertext[i-32:i-16]\n",
    "        dyn = decryptblock(yn)\n",
    "        xn = bytes(a ^ b for a, b in zip(dyn, yn1)) + xn\n",
    "\n",
    "    padnum = xn[-1]\n",
    "    xn = xn[:padnum-16]\n",
    "    xn\n",
    "        \n",
    "    return xn"
   ]
  },
  {
   "cell_type": "code",
   "execution_count": 9,
   "metadata": {},
   "outputs": [
    {
     "data": {
      "text/plain": [
       "b'a white rabbit with pink eyes'"
      ]
     },
     "execution_count": 9,
     "metadata": {},
     "output_type": "execute_result"
    }
   ],
   "source": [
    "decrypt(ciphertext)"
   ]
  },
  {
   "cell_type": "code",
   "execution_count": null,
   "metadata": {},
   "outputs": [],
   "source": []
  }
 ],
 "metadata": {
  "kernelspec": {
   "display_name": "Python 3.8.8 ('base')",
   "language": "python",
   "name": "python3"
  },
  "language_info": {
   "codemirror_mode": {
    "name": "ipython",
    "version": 3
   },
   "file_extension": ".py",
   "mimetype": "text/x-python",
   "name": "python",
   "nbconvert_exporter": "python",
   "pygments_lexer": "ipython3",
   "version": "3.8.8"
  },
  "orig_nbformat": 4,
  "vscode": {
   "interpreter": {
    "hash": "e42634819b8c191a5d07eaf23810ff32516dd8d3875f28ec3e488928fbd3c187"
   }
  }
 },
 "nbformat": 4,
 "nbformat_minor": 2
}
